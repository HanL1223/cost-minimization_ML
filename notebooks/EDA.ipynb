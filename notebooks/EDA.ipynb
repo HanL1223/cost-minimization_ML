{
 "cells": [
  {
   "cell_type": "code",
   "execution_count": null,
   "id": "1fb62f93",
   "metadata": {},
   "outputs": [],
   "source": [
    "# To help with reading and manipulating data\n",
    "import pandas as pd\n",
    "import numpy as np\n",
    "\n",
    "# To help with data visualization\n",
    "%matplotlib inline\n",
    "import matplotlib.pyplot as plt\n",
    "import seaborn as sns\n",
    "\n",
    "# To be used for missing value imputation\n",
    "from sklearn.impute import SimpleImputer\n",
    "\n",
    "# To help with model building\n",
    "from sklearn.linear_model import LogisticRegression\n",
    "from sklearn.tree import DecisionTreeClassifier\n",
    "from sklearn.ensemble import (\n",
    "    AdaBoostClassifier,\n",
    "    GradientBoostingClassifier,\n",
    "    RandomForestClassifier,\n",
    "    BaggingClassifier,\n",
    ")\n",
    "from xgboost import XGBClassifier\n",
    "\n",
    "# To get different metric scores, and split data\n",
    "from sklearn import metrics\n",
    "from sklearn.model_selection import train_test_split, StratifiedKFold, cross_val_score\n",
    "from sklearn.metrics import (\n",
    "    f1_score,\n",
    "    accuracy_score,\n",
    "    recall_score,\n",
    "    precision_score,\n",
    "    confusion_matrix,\n",
    "    roc_auc_score,\n",
    "    ConfusionMatrixDisplay,\n",
    ")\n",
    "\n",
    "# To oversample and undersample data\n",
    "from imblearn.over_sampling import SMOTE\n",
    "from imblearn.under_sampling import RandomUnderSampler\n",
    "\n",
    "# To be used for data scaling and one hot encoding\n",
    "from sklearn.preprocessing import StandardScaler, MinMaxScaler, OneHotEncoder\n",
    "\n",
    "# To be used for tuning the model\n",
    "from sklearn.model_selection import GridSearchCV, RandomizedSearchCV\n",
    "\n",
    "# To use statistical functions\n",
    "import scipy.stats as stats\n",
    "\n",
    "# To be used for creating pipelines and personalizing them\n",
    "from sklearn.pipeline import Pipeline\n",
    "from sklearn.compose import ColumnTransformer\n",
    "\n",
    "# To define maximum number of columns to be displayed in a dataframe\n",
    "pd.set_option(\"display.max_columns\", None)\n",
    "\n",
    "# To supress scientific notations for a dataframe\n",
    "pd.set_option(\"display.float_format\", lambda x: \"%.3f\" % x)\n",
    "\n",
    "# To supress warnings\n",
    "import warnings\n",
    "\n",
    "warnings.filterwarnings(\"ignore\")\n",
    "\n",
    "import os\n",
    "#os.chdir('./cost-minimization_ML')\n",
    "\n",
    "#File reader\n",
    "from src.ingest_data import DataIngestorFactory\n",
    "from src.missing_value_imputation import *\n",
    "from src.data_splitter import *\n",
    "from src.model_selection import *\n",
    "from src.tune_model import ModelTunning  # assuming saved as model_tunning.py"
   ]
  },
  {
   "cell_type": "code",
   "execution_count": 2,
   "id": "85b7f7e3",
   "metadata": {},
   "outputs": [],
   "source": [
    "file_path = '/Users/hanli/cost-minimization_ML/data/Training_raw/Train.csv'\n",
    "file_extension = os.path.splitext(file_path)[1]\n",
    "data_ingestor = DataIngestorFactory.get_data_ingestor(file_extension)\n",
    "df = data_ingestor.ingest(file_path)  # This will work now"
   ]
  },
  {
   "cell_type": "code",
   "execution_count": 3,
   "id": "37f04958",
   "metadata": {},
   "outputs": [
    {
     "name": "stderr",
     "output_type": "stream",
     "text": [
      "2025-06-12 21:56:08,919 - INFO - Switching missing value handling strategy.\n",
      "2025-06-12 21:56:08,921 - INFO - Executing missing value handling strategy.\n",
      "2025-06-12 21:56:08,922 - INFO - Filling missing value with median strategy\n",
      "2025-06-12 21:56:08,966 - INFO - Missing values filled.\n"
     ]
    }
   ],
   "source": [
    "missing_value_handler = MissingValueHandler(DropMissingValue(axis=0, thresh=3))\n",
    "missing_value_handler.set_strategy(FillMissingValue(method='median'))\n",
    "df_filled = missing_value_handler.handle_missing_values(df)"
   ]
  },
  {
   "cell_type": "code",
   "execution_count": 4,
   "id": "6202ce3c",
   "metadata": {},
   "outputs": [
    {
     "name": "stderr",
     "output_type": "stream",
     "text": [
      "2025-06-12 21:56:09,987 - INFO - Splitting data using the selected strategy.\n",
      "2025-06-12 21:56:09,988 - INFO - Performing simple train-test split.\n",
      "2025-06-12 21:56:10,006 - INFO - Train-test split completed.\n"
     ]
    }
   ],
   "source": [
    "data_splitter = DataSplitter(SimpleTrainTestSplitStrategy(test_size=0.2))\n",
    "X_train, X_test, y_train, y_test = data_splitter.split(df_filled, target_column='Target')"
   ]
  },
  {
   "cell_type": "code",
   "execution_count": 13,
   "id": "873d84e8",
   "metadata": {},
   "outputs": [],
   "source": [
    "models = []  # Empty list to store all the models\n",
    "\n",
    "# Appending models into the list\n",
    "\n",
    "models.append(\n",
    "    (\"Logistic Regression\", LogisticRegression(solver=\"newton-cg\", random_state=1))\n",
    ")\n",
    "models.append((\"dtree\", DecisionTreeClassifier(random_state=1)))\n",
    "models.append((\"Xgboost\", XGBClassifier(random_state=1, eval_metric=\"logloss\")))"
   ]
  },
  {
   "cell_type": "code",
   "execution_count": 14,
   "id": "82762fbb",
   "metadata": {},
   "outputs": [
    {
     "name": "stderr",
     "output_type": "stream",
     "text": [
      "2025-06-11 19:54:47,549 - INFO - Evaluating models with maintenance cost optimization\n",
      "2025-06-11 19:54:47,550 - INFO - Starting CV evaluation with maintenance cost scoring\n",
      "2025-06-11 19:54:48,476 - INFO - Logistic Regression: Mean cost ratio = 1.4217 (±0.0090)\n",
      "2025-06-11 19:54:58,994 - INFO - dtree: Mean cost ratio = 1.7411 (±0.0214)\n",
      "2025-06-11 19:55:10,457 - INFO - Xgboost: Mean cost ratio = 2.0820 (±0.0497)\n",
      "2025-06-11 19:55:10,459 - INFO - Best model 'Xgboost' saved to: models/Xgboost_base.pkl\n"
     ]
    }
   ],
   "source": [
    "strategy = CrossValidationEvaluator(n_split=5, random_state=42)\n",
    "evaluator = ModelEvaluator(strategy)\n",
    "\n",
    "# Evaluate models\n",
    "results = evaluator.evaluate_models(models, X_train, y_train)\n",
    "\n",
    "# Get the best model\n",
    "best_model_name, best_model = evaluator.get_best_model(models)\n",
    "\n",
    "# Save the best model (correct static method call)\n",
    "model_path = ModelEvaluator.save_best_model(best_model_name, best_model)\n"
   ]
  },
  {
   "cell_type": "code",
   "execution_count": 15,
   "id": "f756e8d9",
   "metadata": {},
   "outputs": [],
   "source": [
    "tuner = ModelTunning(config_dir=\"config\")"
   ]
  },
  {
   "cell_type": "code",
   "execution_count": 16,
   "id": "0e3ec2e1",
   "metadata": {},
   "outputs": [
    {
     "name": "stderr",
     "output_type": "stream",
     "text": [
      "2025-06-11 19:55:18,122 - INFO - Loaded tuning config for Xgboost, from config/Xgboost.yaml\n",
      "2025-06-11 19:55:18,122 - INFO - Starting hyperparameter tuning for Xgboost ...\n",
      "2025-06-11 20:02:29,056 - INFO - Best parameters for Xgboost: {'subsample': 0.9, 'n_estimators': 250, 'max_depth': 5, 'learning_rate': 0.1, 'gamma': 0, 'colsample_bytree': 0.9}\n",
      "2025-06-11 20:02:29,057 - INFO - Best CV score: 2.0688\n",
      "2025-06-11 20:02:29,061 - INFO - Tuned model 'Xgboost' saved to: models/tuned/Xgboost_tuned.pkl\n"
     ]
    },
    {
     "name": "stdout",
     "output_type": "stream",
     "text": [
      "Tuned model saved at: models/tuned/Xgboost_tuned.pkl\n"
     ]
    }
   ],
   "source": [
    "# Perform hyperparameter tuning\n",
    "tuned_model = tuner.tune(best_model_name, best_model, X_train, y_train, cv=5, n_iter=30, random_state=42)\n",
    "\n",
    "# Save the tuned model\n",
    "model_path = tuner.save_tuned_model(best_model_name, tuned_model)\n",
    "print(f\"Tuned model saved at: {model_path}\")"
   ]
  },
  {
   "cell_type": "code",
   "execution_count": null,
   "id": "6ecab5fb",
   "metadata": {},
   "outputs": [],
   "source": []
  }
 ],
 "metadata": {
  "kernelspec": {
   "display_name": "Python 3 (ipykernel)",
   "language": "python",
   "name": "python3"
  },
  "language_info": {
   "codemirror_mode": {
    "name": "ipython",
    "version": 3
   },
   "file_extension": ".py",
   "mimetype": "text/x-python",
   "name": "python",
   "nbconvert_exporter": "python",
   "pygments_lexer": "ipython3",
   "version": "3.12.10"
  }
 },
 "nbformat": 4,
 "nbformat_minor": 5
}
